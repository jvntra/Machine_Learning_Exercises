{
 "cells": [
  {
   "cell_type": "code",
   "execution_count": 1,
   "id": "759a4563-1c64-4117-91ad-e2d6f5838cdf",
   "metadata": {},
   "outputs": [],
   "source": [
    "# Import standard libraries for analytics, machine learning and visualization. \n",
    "import numpy as np\n",
    "import pandas as pd\n",
    "import matplotlib.pyplot as plt\n",
    "import seaborn as sns\n",
    "import sklearn\n",
    "\n",
    "# Import library for warning handling and ignore warning notifications\n",
    "import warnings\n",
    "warnings.filterwarnings('ignore')\n",
    "\n",
    "# Run magic function so that plots will render in current cell/window and not as standard pop-out window\n",
    "%matplotlib inline"
   ]
  },
  {
   "cell_type": "code",
   "execution_count": 2,
   "id": "c6a31a55-d2f6-419c-8111-50f8e7f306d8",
   "metadata": {},
   "outputs": [],
   "source": [
    "# Lets read our data first then load into data frames so we can take a look at the data.\n",
    "\n",
    "train_data   = pd.read_csv('./data/train.csv')\n",
    "test_data    = pd.read_csv('./data/test.csv')\n",
    "\n",
    "train_df   = pd.DataFrame(train_data)\n",
    "test_df    = pd.DataFrame(test_data)\n"
   ]
  },
  {
   "cell_type": "code",
   "execution_count": 3,
   "id": "291579c1-0412-4b55-ae56-807bdaaa22e3",
   "metadata": {},
   "outputs": [
    {
     "data": {
      "text/html": [
       "<div>\n",
       "<style scoped>\n",
       "    .dataframe tbody tr th:only-of-type {\n",
       "        vertical-align: middle;\n",
       "    }\n",
       "\n",
       "    .dataframe tbody tr th {\n",
       "        vertical-align: top;\n",
       "    }\n",
       "\n",
       "    .dataframe thead th {\n",
       "        text-align: right;\n",
       "    }\n",
       "</style>\n",
       "<table border=\"1\" class=\"dataframe\">\n",
       "  <thead>\n",
       "    <tr style=\"text-align: right;\">\n",
       "      <th></th>\n",
       "      <th>PassengerId</th>\n",
       "      <th>Survived</th>\n",
       "      <th>Pclass</th>\n",
       "      <th>Name</th>\n",
       "      <th>Sex</th>\n",
       "      <th>Age</th>\n",
       "      <th>SibSp</th>\n",
       "      <th>Parch</th>\n",
       "      <th>Ticket</th>\n",
       "      <th>Fare</th>\n",
       "      <th>Cabin</th>\n",
       "      <th>Embarked</th>\n",
       "    </tr>\n",
       "  </thead>\n",
       "  <tbody>\n",
       "    <tr>\n",
       "      <th>0</th>\n",
       "      <td>1</td>\n",
       "      <td>0</td>\n",
       "      <td>3</td>\n",
       "      <td>Braund, Mr. Owen Harris</td>\n",
       "      <td>male</td>\n",
       "      <td>22.0</td>\n",
       "      <td>1</td>\n",
       "      <td>0</td>\n",
       "      <td>A/5 21171</td>\n",
       "      <td>7.2500</td>\n",
       "      <td>NaN</td>\n",
       "      <td>S</td>\n",
       "    </tr>\n",
       "    <tr>\n",
       "      <th>1</th>\n",
       "      <td>2</td>\n",
       "      <td>1</td>\n",
       "      <td>1</td>\n",
       "      <td>Cumings, Mrs. John Bradley (Florence Briggs Th...</td>\n",
       "      <td>female</td>\n",
       "      <td>38.0</td>\n",
       "      <td>1</td>\n",
       "      <td>0</td>\n",
       "      <td>PC 17599</td>\n",
       "      <td>71.2833</td>\n",
       "      <td>C85</td>\n",
       "      <td>C</td>\n",
       "    </tr>\n",
       "    <tr>\n",
       "      <th>2</th>\n",
       "      <td>3</td>\n",
       "      <td>1</td>\n",
       "      <td>3</td>\n",
       "      <td>Heikkinen, Miss. Laina</td>\n",
       "      <td>female</td>\n",
       "      <td>26.0</td>\n",
       "      <td>0</td>\n",
       "      <td>0</td>\n",
       "      <td>STON/O2. 3101282</td>\n",
       "      <td>7.9250</td>\n",
       "      <td>NaN</td>\n",
       "      <td>S</td>\n",
       "    </tr>\n",
       "    <tr>\n",
       "      <th>3</th>\n",
       "      <td>4</td>\n",
       "      <td>1</td>\n",
       "      <td>1</td>\n",
       "      <td>Futrelle, Mrs. Jacques Heath (Lily May Peel)</td>\n",
       "      <td>female</td>\n",
       "      <td>35.0</td>\n",
       "      <td>1</td>\n",
       "      <td>0</td>\n",
       "      <td>113803</td>\n",
       "      <td>53.1000</td>\n",
       "      <td>C123</td>\n",
       "      <td>S</td>\n",
       "    </tr>\n",
       "    <tr>\n",
       "      <th>4</th>\n",
       "      <td>5</td>\n",
       "      <td>0</td>\n",
       "      <td>3</td>\n",
       "      <td>Allen, Mr. William Henry</td>\n",
       "      <td>male</td>\n",
       "      <td>35.0</td>\n",
       "      <td>0</td>\n",
       "      <td>0</td>\n",
       "      <td>373450</td>\n",
       "      <td>8.0500</td>\n",
       "      <td>NaN</td>\n",
       "      <td>S</td>\n",
       "    </tr>\n",
       "  </tbody>\n",
       "</table>\n",
       "</div>"
      ],
      "text/plain": [
       "   PassengerId  Survived  Pclass  \\\n",
       "0            1         0       3   \n",
       "1            2         1       1   \n",
       "2            3         1       3   \n",
       "3            4         1       1   \n",
       "4            5         0       3   \n",
       "\n",
       "                                                Name     Sex   Age  SibSp  \\\n",
       "0                            Braund, Mr. Owen Harris    male  22.0      1   \n",
       "1  Cumings, Mrs. John Bradley (Florence Briggs Th...  female  38.0      1   \n",
       "2                             Heikkinen, Miss. Laina  female  26.0      0   \n",
       "3       Futrelle, Mrs. Jacques Heath (Lily May Peel)  female  35.0      1   \n",
       "4                           Allen, Mr. William Henry    male  35.0      0   \n",
       "\n",
       "   Parch            Ticket     Fare Cabin Embarked  \n",
       "0      0         A/5 21171   7.2500   NaN        S  \n",
       "1      0          PC 17599  71.2833   C85        C  \n",
       "2      0  STON/O2. 3101282   7.9250   NaN        S  \n",
       "3      0            113803  53.1000  C123        S  \n",
       "4      0            373450   8.0500   NaN        S  "
      ]
     },
     "execution_count": 3,
     "metadata": {},
     "output_type": "execute_result"
    }
   ],
   "source": [
    "# View first 5 rows along with column headers.\n",
    "train_df.head()"
   ]
  },
  {
   "cell_type": "code",
   "execution_count": 4,
   "id": "b5709b55-704e-45b0-8d53-5bcb2b0d3dc6",
   "metadata": {},
   "outputs": [
    {
     "data": {
      "text/html": [
       "<div>\n",
       "<style scoped>\n",
       "    .dataframe tbody tr th:only-of-type {\n",
       "        vertical-align: middle;\n",
       "    }\n",
       "\n",
       "    .dataframe tbody tr th {\n",
       "        vertical-align: top;\n",
       "    }\n",
       "\n",
       "    .dataframe thead th {\n",
       "        text-align: right;\n",
       "    }\n",
       "</style>\n",
       "<table border=\"1\" class=\"dataframe\">\n",
       "  <thead>\n",
       "    <tr style=\"text-align: right;\">\n",
       "      <th></th>\n",
       "      <th>passengerid</th>\n",
       "      <th>survived</th>\n",
       "      <th>pclass</th>\n",
       "      <th>name</th>\n",
       "      <th>sex</th>\n",
       "      <th>age</th>\n",
       "      <th>sibsp</th>\n",
       "      <th>parch</th>\n",
       "      <th>ticket</th>\n",
       "      <th>fare</th>\n",
       "      <th>cabin</th>\n",
       "      <th>embarked</th>\n",
       "    </tr>\n",
       "  </thead>\n",
       "  <tbody>\n",
       "    <tr>\n",
       "      <th>0</th>\n",
       "      <td>1</td>\n",
       "      <td>0</td>\n",
       "      <td>3</td>\n",
       "      <td>Braund, Mr. Owen Harris</td>\n",
       "      <td>male</td>\n",
       "      <td>22.0</td>\n",
       "      <td>1</td>\n",
       "      <td>0</td>\n",
       "      <td>A/5 21171</td>\n",
       "      <td>7.2500</td>\n",
       "      <td>NaN</td>\n",
       "      <td>S</td>\n",
       "    </tr>\n",
       "    <tr>\n",
       "      <th>1</th>\n",
       "      <td>2</td>\n",
       "      <td>1</td>\n",
       "      <td>1</td>\n",
       "      <td>Cumings, Mrs. John Bradley (Florence Briggs Th...</td>\n",
       "      <td>female</td>\n",
       "      <td>38.0</td>\n",
       "      <td>1</td>\n",
       "      <td>0</td>\n",
       "      <td>PC 17599</td>\n",
       "      <td>71.2833</td>\n",
       "      <td>C85</td>\n",
       "      <td>C</td>\n",
       "    </tr>\n",
       "    <tr>\n",
       "      <th>2</th>\n",
       "      <td>3</td>\n",
       "      <td>1</td>\n",
       "      <td>3</td>\n",
       "      <td>Heikkinen, Miss. Laina</td>\n",
       "      <td>female</td>\n",
       "      <td>26.0</td>\n",
       "      <td>0</td>\n",
       "      <td>0</td>\n",
       "      <td>STON/O2. 3101282</td>\n",
       "      <td>7.9250</td>\n",
       "      <td>NaN</td>\n",
       "      <td>S</td>\n",
       "    </tr>\n",
       "    <tr>\n",
       "      <th>3</th>\n",
       "      <td>4</td>\n",
       "      <td>1</td>\n",
       "      <td>1</td>\n",
       "      <td>Futrelle, Mrs. Jacques Heath (Lily May Peel)</td>\n",
       "      <td>female</td>\n",
       "      <td>35.0</td>\n",
       "      <td>1</td>\n",
       "      <td>0</td>\n",
       "      <td>113803</td>\n",
       "      <td>53.1000</td>\n",
       "      <td>C123</td>\n",
       "      <td>S</td>\n",
       "    </tr>\n",
       "    <tr>\n",
       "      <th>4</th>\n",
       "      <td>5</td>\n",
       "      <td>0</td>\n",
       "      <td>3</td>\n",
       "      <td>Allen, Mr. William Henry</td>\n",
       "      <td>male</td>\n",
       "      <td>35.0</td>\n",
       "      <td>0</td>\n",
       "      <td>0</td>\n",
       "      <td>373450</td>\n",
       "      <td>8.0500</td>\n",
       "      <td>NaN</td>\n",
       "      <td>S</td>\n",
       "    </tr>\n",
       "  </tbody>\n",
       "</table>\n",
       "</div>"
      ],
      "text/plain": [
       "   passengerid  survived  pclass  \\\n",
       "0            1         0       3   \n",
       "1            2         1       1   \n",
       "2            3         1       3   \n",
       "3            4         1       1   \n",
       "4            5         0       3   \n",
       "\n",
       "                                                name     sex   age  sibsp  \\\n",
       "0                            Braund, Mr. Owen Harris    male  22.0      1   \n",
       "1  Cumings, Mrs. John Bradley (Florence Briggs Th...  female  38.0      1   \n",
       "2                             Heikkinen, Miss. Laina  female  26.0      0   \n",
       "3       Futrelle, Mrs. Jacques Heath (Lily May Peel)  female  35.0      1   \n",
       "4                           Allen, Mr. William Henry    male  35.0      0   \n",
       "\n",
       "   parch            ticket     fare cabin embarked  \n",
       "0      0         A/5 21171   7.2500   NaN        S  \n",
       "1      0          PC 17599  71.2833   C85        C  \n",
       "2      0  STON/O2. 3101282   7.9250   NaN        S  \n",
       "3      0            113803  53.1000  C123        S  \n",
       "4      0            373450   8.0500   NaN        S  "
      ]
     },
     "execution_count": 4,
     "metadata": {},
     "output_type": "execute_result"
    }
   ],
   "source": [
    "# edit column headers to lowercase as its easier for me to type them out throughout my workflow.\n",
    "\n",
    "train_df.columns = train_df.columns.str.lower()\n",
    "train_df.head(5)"
   ]
  },
  {
   "cell_type": "code",
   "execution_count": 5,
   "id": "aee30681-f54b-4754-a661-08ffe2c1f09c",
   "metadata": {},
   "outputs": [],
   "source": [
    "# The dataframe has included default indices (shown in bold) for the records or rows in the dataset. Passengerid seems like\n",
    "# a reasonable index for our rows so lets go ahead and set them as our indices by naming the passengerid column as the index\n",
    "# column in the dataframe constructor.\n",
    "\n",
    "train_df = train_df.set_index('passengerid')"
   ]
  },
  {
   "cell_type": "code",
   "execution_count": 6,
   "id": "7c98b520-7c19-4536-af30-1ed6d6506119",
   "metadata": {},
   "outputs": [
    {
     "data": {
      "text/html": [
       "<div>\n",
       "<style scoped>\n",
       "    .dataframe tbody tr th:only-of-type {\n",
       "        vertical-align: middle;\n",
       "    }\n",
       "\n",
       "    .dataframe tbody tr th {\n",
       "        vertical-align: top;\n",
       "    }\n",
       "\n",
       "    .dataframe thead th {\n",
       "        text-align: right;\n",
       "    }\n",
       "</style>\n",
       "<table border=\"1\" class=\"dataframe\">\n",
       "  <thead>\n",
       "    <tr style=\"text-align: right;\">\n",
       "      <th></th>\n",
       "      <th>survived</th>\n",
       "      <th>pclass</th>\n",
       "      <th>name</th>\n",
       "      <th>sex</th>\n",
       "      <th>age</th>\n",
       "      <th>sibsp</th>\n",
       "      <th>parch</th>\n",
       "      <th>ticket</th>\n",
       "      <th>fare</th>\n",
       "      <th>cabin</th>\n",
       "      <th>embarked</th>\n",
       "    </tr>\n",
       "    <tr>\n",
       "      <th>passengerid</th>\n",
       "      <th></th>\n",
       "      <th></th>\n",
       "      <th></th>\n",
       "      <th></th>\n",
       "      <th></th>\n",
       "      <th></th>\n",
       "      <th></th>\n",
       "      <th></th>\n",
       "      <th></th>\n",
       "      <th></th>\n",
       "      <th></th>\n",
       "    </tr>\n",
       "  </thead>\n",
       "  <tbody>\n",
       "  </tbody>\n",
       "</table>\n",
       "</div>"
      ],
      "text/plain": [
       "Empty DataFrame\n",
       "Columns: [survived, pclass, name, sex, age, sibsp, parch, ticket, fare, cabin, embarked]\n",
       "Index: []"
      ]
     },
     "execution_count": 6,
     "metadata": {},
     "output_type": "execute_result"
    }
   ],
   "source": [
    "train_df.head(0)"
   ]
  },
  {
   "cell_type": "code",
   "execution_count": 7,
   "id": "45694ccd-a41a-4255-8842-58584605f489",
   "metadata": {},
   "outputs": [
    {
     "name": "stdout",
     "output_type": "stream",
     "text": [
      "<class 'pandas.core.frame.DataFrame'>\n",
      "Int64Index: 891 entries, 1 to 891\n",
      "Data columns (total 11 columns):\n",
      " #   Column    Non-Null Count  Dtype  \n",
      "---  ------    --------------  -----  \n",
      " 0   survived  891 non-null    int64  \n",
      " 1   pclass    891 non-null    int64  \n",
      " 2   name      891 non-null    object \n",
      " 3   sex       891 non-null    object \n",
      " 4   age       714 non-null    float64\n",
      " 5   sibsp     891 non-null    int64  \n",
      " 6   parch     891 non-null    int64  \n",
      " 7   ticket    891 non-null    object \n",
      " 8   fare      891 non-null    float64\n",
      " 9   cabin     204 non-null    object \n",
      " 10  embarked  889 non-null    object \n",
      "dtypes: float64(2), int64(4), object(5)\n",
      "memory usage: 83.5+ KB\n"
     ]
    }
   ],
   "source": [
    "# Take a look at the dataframe info to inspect dtypes are correct\n",
    "# and inspect the column counts for missing data.\n",
    "train_df.info()"
   ]
  },
  {
   "cell_type": "code",
   "execution_count": 8,
   "id": "7533083f-038f-4689-8f4b-d79584f7b3a3",
   "metadata": {},
   "outputs": [
    {
     "data": {
      "image/png": "[encoded data removed]",
      "text/plain": [
       "<Figure size 432x288 with 1 Axes>"
      ]
     },
     "metadata": {
      "needs_background": "light"
     },
     "output_type": "display_data"
    }
   ],
   "source": [
    "# Plot heatmap to get a visual sense of the missing data. It shows entries where there are null\n",
    "# or missing values as a blue line and entries where there are values as a gray line. \n",
    "sns.heatmap(train_df.isnull(), yticklabels=False, cbar=False, cmap='tab20c_r')\n",
    "plt.title('$ Missing Training Data')\n",
    "plt.show()"
   ]
  },
  {
   "cell_type": "markdown",
   "id": "78089ca7-e76e-4866-a1dc-b3e19043378b",
   "metadata": {},
   "source": [
    "A considerable amount of both age and cabin data is missing. I suspect age will be a relatively important variable in the outcomes of survival and therefor its prediction. Following from that, it's relevant to try and correct these imbalances while preserving the behavior of the data. So to help with this I will try to infer ages for the passengers who dont have one listed by looking at the distribution of the age data against passenger socioeconomic class."
   ]
  },
  {
   "cell_type": "code",
   "execution_count": 9,
   "id": "8b116cf8-422c-4800-ad6e-d63b99069905",
   "metadata": {},
   "outputs": [
    {
     "data": {
      "image/png": "[encoded data removed]",
      "text/plain": [
       "<Figure size 720x504 with 1 Axes>"
      ]
     },
     "metadata": {
      "needs_background": "light"
     },
     "output_type": "display_data"
    }
   ],
   "source": [
    "plt.figure(figsize=(10,7))\n",
    "sns.boxplot(x='pclass', y='age', data=train_df, palette='GnBu_d').set_title('Age By Passenger Socioeconomic Class')\n",
    "plt.show()"
   ]
  },
  {
   "cell_type": "code",
   "execution_count": 10,
   "id": "e745374d-dd52-40b2-956a-e21a64d1ef9a",
   "metadata": {},
   "outputs": [
    {
     "data": {
      "image/png": "[encoded data removed]",
      "text/plain": [
       "<Figure size 720x504 with 1 Axes>"
      ]
     },
     "metadata": {
      "needs_background": "light"
     },
     "output_type": "display_data"
    }
   ],
   "source": [
    "# the class labels are 1,2, and 3 and correspond to upper, middle and lower. Rather than change\n",
    "# the data in the dataset I'll just change their labels in the plotting functions.\n",
    "\n",
    "plt.figure(figsize=(10,7))\n",
    "sns.boxplot(x='pclass', y='age', data=train_df, palette='GnBu_d')\n",
    "\n",
    "plt.title('Age By Passenger Socioeconomic Class', fontsize=18)\n",
    "plt.xticks(ticks=[0,1,2], labels=['upper', 'middle', 'lower'], fontsize=12)\n",
    "plt.xlabel('\\nPassenger Class', fontsize=14)\n",
    "\n",
    "plt.show()"
   ]
  },
  {
   "cell_type": "markdown",
   "id": "583d3632-92fc-4c26-8b5d-fa599d322a4d",
   "metadata": {},
   "source": [
    "We can see from the boxplots that the age data is normally distributed across each respective class therefor its reasonable to choose the mean age of each passenger class as a measure of central tendency. This means we can use the mean ages for each class and impute them for the missing age data using their pclass values since that column is complete and not missing data. Thanks sklearn!\n"
   ]
  },
  {
   "cell_type": "code",
   "execution_count": 11,
   "id": "e0732134-f0ec-4aa9-be19-7409d1470608",
   "metadata": {},
   "outputs": [
    {
     "data": {
      "text/plain": [
       "Index(['survived', 'pclass', 'name', 'sex', 'age', 'sibsp', 'parch', 'ticket',\n",
       "       'fare', 'cabin', 'embarked'],\n",
       "      dtype='object')"
      ]
     },
     "execution_count": 11,
     "metadata": {},
     "output_type": "execute_result"
    }
   ],
   "source": [
    "# Take a look at the dataframe columns so that i know which header is in which \n",
    "# position (recall that python lists are indexed at 0)\n",
    "\n",
    "train_df.columns"
   ]
  },
  {
   "cell_type": "code",
   "execution_count": 12,
   "id": "b0c9d6a0-4527-49c4-8cc7-b81de416976b",
   "metadata": {},
   "outputs": [
    {
     "name": "stdout",
     "output_type": "stream",
     "text": [
      "the upper class mean age is 38.233440860215055\n",
      "the middle class mean age is 29.87763005780347\n",
      "the lower class mean age is 25.14061971830986\n"
     ]
    }
   ],
   "source": [
    "print('the upper class mean age is '  + str(np.mean(train_df.age[train_df.pclass==1])))\n",
    "print('the middle class mean age is ' + str(np.mean(train_df.age[train_df.pclass==2])))\n",
    "print('the lower class mean age is '  + str(np.mean(train_df.age[train_df.pclass==3])))"
   ]
  },
  {
   "cell_type": "code",
   "execution_count": 13,
   "id": "987878b9-d623-4c1d-8338-3532d2e76c52",
   "metadata": {},
   "outputs": [],
   "source": [
    "# Lets write an imputation function to do this for us.\n",
    "\n",
    "def impute_age(cols):\n",
    "    age = cols[4]\n",
    "    pclass = cols[2]\n",
    "    \n",
    "    #for entries with a null age value, impute mean class age based on which class they are.\n",
    "    if pd.isnull(age):\n",
    "        if pclass == 1:\n",
    "            return 38\n",
    "        \n",
    "        elif pclass == 2:\n",
    "            return 30\n",
    "        \n",
    "        else:\n",
    "            return 24"
   ]
  },
  {
   "cell_type": "code",
   "execution_count": 14,
   "id": "63f6fff6-d5ce-4633-b749-3004469182d8",
   "metadata": {},
   "outputs": [],
   "source": [
    "# The cabin feature is very sparse so it is dropped inplace (permanently removed).\n",
    "train_df.drop('cabin', axis=1, inplace=True)"
   ]
  },
  {
   "cell_type": "code",
   "execution_count": 15,
   "id": "521953b0-43d1-4ef1-8192-ce27d2c109f4",
   "metadata": {},
   "outputs": [
    {
     "data": {
      "text/plain": [
       "<AxesSubplot:ylabel='passengerid'>"
      ]
     },
     "execution_count": 15,
     "metadata": {},
     "output_type": "execute_result"
    },
    {
     "data": {
      "image/png": "[encoded data removed]",
      "text/plain": [
       "<Figure size 432x288 with 1 Axes>"
      ]
     },
     "metadata": {
      "needs_background": "light"
     },
     "output_type": "display_data"
    }
   ],
   "source": [
    "# Missing data heatmap\n",
    "sns.heatmap(train_df.isnull(), yticklabels=False, cbar=False, cmap='tab20c_r')"
   ]
  },
  {
   "cell_type": "markdown",
   "id": "75f06ea2-c2ab-46d1-812c-83039182e3d8",
   "metadata": {},
   "source": [
    "Taking a look at the heatmap again, we see some improvement after imputation but there are still\n"
   ]
  },
  {
   "cell_type": "code",
   "execution_count": 16,
   "id": "4d189450-0b25-4d12-8565-a601f76d6990",
   "metadata": {},
   "outputs": [],
   "source": [
    "# Remove rows with missing data, which in this case is only in the age column.\n",
    "train_df.dropna(inplace=True)"
   ]
  },
  {
   "cell_type": "code",
   "execution_count": 17,
   "id": "9093f336-2e2e-4f81-89bd-800c8c4d45bf",
   "metadata": {},
   "outputs": [
    {
     "data": {
      "text/plain": [
       "<AxesSubplot:ylabel='passengerid'>"
      ]
     },
     "execution_count": 17,
     "metadata": {},
     "output_type": "execute_result"
    },
    {
     "data": {
      "image/png": "[encoded data removed]",
      "text/plain": [
       "<Figure size 432x288 with 1 Axes>"
      ]
     },
     "metadata": {
      "needs_background": "light"
     },
     "output_type": "display_data"
    }
   ],
   "source": [
    "# Check data heatmap one last time.\n",
    "sns.heatmap(train_df.isnull(), yticklabels=False, cbar=False, cmap='tab20c_r')"
   ]
  },
  {
   "cell_type": "markdown",
   "id": "f03ec197-d326-49da-97b0-f87fee7c0c30",
   "metadata": {},
   "source": []
  },
  {
   "cell_type": "markdown",
   "id": "9be7286a-76be-4eca-b82b-4ab05ec92d6c",
   "metadata": {},
   "source": [
    "Our dataset is now filled and there are no missing values. "
   ]
  },
  {
   "cell_type": "markdown",
   "id": "745ebe2a-2dfe-4bf1-b9ce-5b22bc475d3e",
   "metadata": {},
   "source": []
  },
  {
   "cell_type": "code",
   "execution_count": 18,
   "id": "5557d643-207b-4a1f-9f24-1f0327ad54e7",
   "metadata": {},
   "outputs": [
    {
     "name": "stdout",
     "output_type": "stream",
     "text": [
      "<class 'pandas.core.frame.DataFrame'>\n",
      "Int64Index: 712 entries, 1 to 891\n",
      "Data columns (total 10 columns):\n",
      " #   Column    Non-Null Count  Dtype  \n",
      "---  ------    --------------  -----  \n",
      " 0   survived  712 non-null    int64  \n",
      " 1   pclass    712 non-null    int64  \n",
      " 2   name      712 non-null    object \n",
      " 3   sex       712 non-null    object \n",
      " 4   age       712 non-null    float64\n",
      " 5   sibsp     712 non-null    int64  \n",
      " 6   parch     712 non-null    int64  \n",
      " 7   ticket    712 non-null    object \n",
      " 8   fare      712 non-null    float64\n",
      " 9   embarked  712 non-null    object \n",
      "dtypes: float64(2), int64(4), object(4)\n",
      "memory usage: 61.2+ KB\n",
      "None\n",
      "\n",
      "\n",
      "Non-Null Objects to Be Converted to Category\n",
      "Index(['name', 'sex', 'ticket', 'embarked'], dtype='object')\n"
     ]
    }
   ],
   "source": [
    "# Data types\n",
    "print(train_df.info())\n",
    "\n",
    "# Identify non-null objects\n",
    "print('\\n')\n",
    "print('Non-Null Objects to Be Converted to Category')\n",
    "print(train_df.select_dtypes(['object']).columns)"
   ]
  },
  {
   "cell_type": "markdown",
   "id": "6db5875a-0cab-4068-8c12-0f4684cf5cfe",
   "metadata": {},
   "source": [
    "Taking a look at the data dictionary, we can see more detail about the context of the data. The columns for name and ticket aren't relevant for the model and will be removed."
   ]
  },
  {
   "cell_type": "markdown",
   "id": "4f010e61-17fb-40cf-bc23-fd5c6dfe1d1a",
   "metadata": {},
   "source": [
    "![](data/data_dictionary.png)"
   ]
  },
  {
   "cell_type": "markdown",
   "id": "0333fd65-66ca-4430-91e3-3f5331feab88",
   "metadata": {},
   "source": [
    "It looks like the sex and embarked columns can be number encoded so that the model can be able to utilized them in making predictions."
   ]
  },
  {
   "cell_type": "code",
   "execution_count": 19,
   "id": "a3a70282-1822-4dee-ba2e-58bcb33dc7ab",
   "metadata": {},
   "outputs": [],
   "source": [
    "# Remove unnecessary columns  \n",
    "train_df.drop(['name','ticket'], axis = 1, inplace = True)\n",
    "\n",
    "# Convert objects to category data type\n",
    "objcat = ['sex','embarked']\n",
    "\n",
    "for colname in objcat:\n",
    "    train_df[colname] = train_df[colname].astype('category')"
   ]
  },
  {
   "cell_type": "code",
   "execution_count": 21,
   "id": "161f5a13-4b75-4af7-91f6-3f2d350ad26e",
   "metadata": {},
   "outputs": [
    {
     "data": {
      "text/html": [
       "<div>\n",
       "<style scoped>\n",
       "    .dataframe tbody tr th:only-of-type {\n",
       "        vertical-align: middle;\n",
       "    }\n",
       "\n",
       "    .dataframe tbody tr th {\n",
       "        vertical-align: top;\n",
       "    }\n",
       "\n",
       "    .dataframe thead th {\n",
       "        text-align: right;\n",
       "    }\n",
       "</style>\n",
       "<table border=\"1\" class=\"dataframe\">\n",
       "  <thead>\n",
       "    <tr style=\"text-align: right;\">\n",
       "      <th></th>\n",
       "      <th>count</th>\n",
       "      <th>mean</th>\n",
       "      <th>std</th>\n",
       "      <th>min</th>\n",
       "      <th>25%</th>\n",
       "      <th>50%</th>\n",
       "      <th>75%</th>\n",
       "      <th>max</th>\n",
       "    </tr>\n",
       "  </thead>\n",
       "  <tbody>\n",
       "    <tr>\n",
       "      <th>survived</th>\n",
       "      <td>712.0</td>\n",
       "      <td>0.404494</td>\n",
       "      <td>0.491139</td>\n",
       "      <td>0.00</td>\n",
       "      <td>0.00</td>\n",
       "      <td>0.00000</td>\n",
       "      <td>1.0</td>\n",
       "      <td>1.0000</td>\n",
       "    </tr>\n",
       "    <tr>\n",
       "      <th>pclass</th>\n",
       "      <td>712.0</td>\n",
       "      <td>2.240169</td>\n",
       "      <td>0.836854</td>\n",
       "      <td>1.00</td>\n",
       "      <td>1.00</td>\n",
       "      <td>2.00000</td>\n",
       "      <td>3.0</td>\n",
       "      <td>3.0000</td>\n",
       "    </tr>\n",
       "    <tr>\n",
       "      <th>age</th>\n",
       "      <td>712.0</td>\n",
       "      <td>29.642093</td>\n",
       "      <td>14.492933</td>\n",
       "      <td>0.42</td>\n",
       "      <td>20.00</td>\n",
       "      <td>28.00000</td>\n",
       "      <td>38.0</td>\n",
       "      <td>80.0000</td>\n",
       "    </tr>\n",
       "    <tr>\n",
       "      <th>sibsp</th>\n",
       "      <td>712.0</td>\n",
       "      <td>0.514045</td>\n",
       "      <td>0.930692</td>\n",
       "      <td>0.00</td>\n",
       "      <td>0.00</td>\n",
       "      <td>0.00000</td>\n",
       "      <td>1.0</td>\n",
       "      <td>5.0000</td>\n",
       "    </tr>\n",
       "    <tr>\n",
       "      <th>parch</th>\n",
       "      <td>712.0</td>\n",
       "      <td>0.432584</td>\n",
       "      <td>0.854181</td>\n",
       "      <td>0.00</td>\n",
       "      <td>0.00</td>\n",
       "      <td>0.00000</td>\n",
       "      <td>1.0</td>\n",
       "      <td>6.0000</td>\n",
       "    </tr>\n",
       "    <tr>\n",
       "      <th>fare</th>\n",
       "      <td>712.0</td>\n",
       "      <td>34.567251</td>\n",
       "      <td>52.938648</td>\n",
       "      <td>0.00</td>\n",
       "      <td>8.05</td>\n",
       "      <td>15.64585</td>\n",
       "      <td>33.0</td>\n",
       "      <td>512.3292</td>\n",
       "    </tr>\n",
       "  </tbody>\n",
       "</table>\n",
       "</div>"
      ],
      "text/plain": [
       "          count       mean        std   min    25%       50%   75%       max\n",
       "survived  712.0   0.404494   0.491139  0.00   0.00   0.00000   1.0    1.0000\n",
       "pclass    712.0   2.240169   0.836854  1.00   1.00   2.00000   3.0    3.0000\n",
       "age       712.0  29.642093  14.492933  0.42  20.00  28.00000  38.0   80.0000\n",
       "sibsp     712.0   0.514045   0.930692  0.00   0.00   0.00000   1.0    5.0000\n",
       "parch     712.0   0.432584   0.854181  0.00   0.00   0.00000   1.0    6.0000\n",
       "fare      712.0  34.567251  52.938648  0.00   8.05  15.64585  33.0  512.3292"
      ]
     },
     "execution_count": 21,
     "metadata": {},
     "output_type": "execute_result"
    }
   ],
   "source": [
    "# Numeric summary\n",
    "train_df.describe().transpose()"
   ]
  },
  {
   "cell_type": "code",
   "execution_count": 28,
   "id": "fea7aec3-b083-4dc2-88de-d83d0392b4f3",
   "metadata": {},
   "outputs": [
    {
     "name": "stdout",
     "output_type": "stream",
     "text": [
      "Target Variable\n",
      "survived\n",
      "0    424\n",
      "1    288\n",
      "Name: survived, dtype: int64\n"
     ]
    },
    {
     "data": {
      "image/png": "[encoded data removed]",
      "text/plain": [
       "<Figure size 720x360 with 1 Axes>"
      ]
     },
     "metadata": {},
     "output_type": "display_data"
    }
   ],
   "source": [
    "# Survival Count\n",
    "print('Target Variable')\n",
    "print(train_df.groupby(['survived']).survived.count())\n",
    "\n",
    "# Target Variable Countplot\n",
    "sns.set_style('darkgrid')\n",
    "plt.figure(figsize = (10,5))\n",
    "sns.countplot(train_df['survived'], alpha =.80, palette= ['grey','teal'])\n",
    "plt.title('Survivors vs Non-Survivors')\n",
    "plt.ylabel('# Passengers')\n",
    "plt.show()"
   ]
  },
  {
   "cell_type": "code",
   "execution_count": 31,
   "id": "66d5808f-d320-42b0-9031-34709f550943",
   "metadata": {},
   "outputs": [
    {
     "name": "stdout",
     "output_type": "stream",
     "text": [
      "Continuous Variables\n",
      "      count       mean        std   min    25%       50%   75%       max\n",
      "age   712.0  29.642093  14.492933  0.42  20.00  28.00000  38.0   80.0000\n",
      "fare  712.0  34.567251  52.938648  0.00   8.05  15.64585  33.0  512.3292\n",
      "--------------------------------------------------------------------------------\n",
      "Discrete Variables\n",
      "pclass\n",
      "1    184\n",
      "2    173\n",
      "3    355\n",
      "Name: pclass, dtype: int64\n",
      "sibsp\n",
      "0    469\n",
      "1    183\n",
      "2     25\n",
      "3     12\n",
      "4     18\n",
      "5      5\n",
      "Name: sibsp, dtype: int64\n",
      "parch\n",
      "0    519\n",
      "1    110\n",
      "2     68\n",
      "3      5\n",
      "4      4\n",
      "5      5\n",
      "6      1\n",
      "Name: parch, dtype: int64\n"
     ]
    },
    {
     "data": {
      "image/png": "[encoded data removed]",
      "text/plain": [
       "<Figure size 1440x1152 with 5 Axes>"
      ]
     },
     "metadata": {},
     "output_type": "display_data"
    }
   ],
   "source": [
    "# Identify numeric features\n",
    "print('Continuous Variables')\n",
    "print(train_df[['age','fare']].describe().transpose())\n",
    "print('--'*40)\n",
    "print('Discrete Variables')\n",
    "print(train_df.groupby('pclass').pclass.count())\n",
    "print(train_df.groupby('sibsp').sibsp.count())\n",
    "print(train_df.groupby('parch').parch.count())\n",
    "\n",
    "# Subplots of Numeric Features\n",
    "sns.set_style('darkgrid')\n",
    "fig = plt.figure(figsize = (20,16))\n",
    "fig.subplots_adjust(hspace = .30)\n",
    "\n",
    "ax1 = fig.add_subplot(321)\n",
    "ax1.hist(train_df['pclass'], bins = 20, alpha = .50,edgecolor= 'black',color ='teal')\n",
    "ax1.set_xlabel('class', fontsize = 15)\n",
    "ax1.set_ylabel('# Passengers',fontsize = 15)\n",
    "ax1.set_title('Passenger Class',fontsize = 15)\n",
    "\n",
    "ax2 = fig.add_subplot(323)\n",
    "ax2.hist(train_df['age'], bins = 20, alpha = .50,edgecolor= 'black',color ='teal')\n",
    "ax2.set_xlabel('age',fontsize = 15)\n",
    "ax2.set_ylabel('# Passengers',fontsize = 15)\n",
    "ax2.set_title('age of Passengers',fontsize = 15)\n",
    "\n",
    "ax3 = fig.add_subplot(325)\n",
    "ax3.hist(train_df['sibsp'], bins = 20, alpha = .50,edgecolor= 'black',color ='teal')\n",
    "ax3.set_xlabel('sibsp',fontsize = 15)\n",
    "ax3.set_ylabel('# Passengers',fontsize = 15)\n",
    "ax3.set_title('Passengers with Spouses or Siblings',fontsize = 15)\n",
    "\n",
    "ax4 = fig.add_subplot(222)\n",
    "ax4.hist(train_df['parch'], bins = 20, alpha = .50,edgecolor= 'black',color ='teal')\n",
    "ax4.set_xlabel('parch',fontsize = 15)\n",
    "ax4.set_ylabel('# Passengers',fontsize = 15)\n",
    "ax4.set_title('Passengers with Children',fontsize = 15)\n",
    "\n",
    "ax5 = fig.add_subplot(224)\n",
    "ax5.hist(train_df['fare'], bins = 20, alpha = .50,edgecolor= 'black',color ='teal')\n",
    "ax5.set_xlabel('fare',fontsize = 15)\n",
    "ax5.set_ylabel('# Passengers',fontsize = 15)\n",
    "ax5.set_title('Ticket Fare',fontsize = 15)\n",
    "\n",
    "plt.show()"
   ]
  },
  {
   "cell_type": "code",
   "execution_count": 44,
   "id": "77e9a688-dd66-4fe8-afe0-d82362acac8e",
   "metadata": {},
   "outputs": [
    {
     "name": "stdout",
     "output_type": "stream",
     "text": [
      "Passenger Class Summary\n",
      "\n",
      "\n",
      "survived    0    1\n",
      "pclass            \n",
      "1          64  120\n",
      "2          90   83\n",
      "3         270   85\n"
     ]
    },
    {
     "data": {
      "image/png": "[encoded data removed]",
      "text/plain": [
       "<Figure size 720x360 with 1 Axes>"
      ]
     },
     "metadata": {},
     "output_type": "display_data"
    }
   ],
   "source": [
    "# Passenger class summary\n",
    "print('Passenger Class Summary')\n",
    "\n",
    "print('\\n')\n",
    "print(train_df.groupby(['pclass','survived']).pclass.count().unstack())\n",
    "\n",
    "# Passenger class visualization\n",
    "p_class = train_df.groupby(['pclass','survived']).pclass.count().unstack()\n",
    "p1 = p_class.plot(figsize=(10,5), kind = 'bar', stacked = True, \n",
    "                   color = ['grey','lightgreen'], alpha = .70)\n",
    "p1.set_xlabel('Socioeconomic Class', fontsize=14)\n",
    "p1.set_ylabel('# Passengers', fontsize=14)\n",
    "p1.set_title('Passengers by Class: Survivors vs Non-Survivors',fontsize=18)\n",
    "p1.legend(['Did Not Survive','Survived'],fontsize=12)\n",
    "plt.show()"
   ]
  },
  {
   "cell_type": "code",
   "execution_count": null,
   "id": "2eb171c9-2ad3-4463-9c2c-5b13ff4f6106",
   "metadata": {},
   "outputs": [],
   "source": []
  }
 ],
 "metadata": {
  "kernelspec": {
   "display_name": "Python 3",
   "language": "python",
   "name": "python3"
  },
  "language_info": {
   "codemirror_mode": {
    "name": "ipython",
    "version": 3
   },
   "file_extension": ".py",
   "mimetype": "text/x-python",
   "name": "python",
   "nbconvert_exporter": "python",
   "pygments_lexer": "ipython3",
   "version": "3.8.8"
  }
 },
 "nbformat": 4,
 "nbformat_minor": 5
}
